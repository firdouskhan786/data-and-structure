{
  "nbformat": 4,
  "nbformat_minor": 0,
  "metadata": {
    "colab": {
      "provenance": []
    },
    "kernelspec": {
      "name": "python3",
      "display_name": "Python 3"
    },
    "language_info": {
      "name": "python"
    }
  },
  "cells": [
    {
      "cell_type": "markdown",
      "source": [
        "# Q1. What are data structures, and why are they important.\n"
      ],
      "metadata": {
        "id": "9veI9pVvfheP"
      }
    },
    {
      "cell_type": "markdown",
      "source": [
        "Ans. Data structures are specialized formats for organizing, storing, and accessing collections of data. They provide efficient ways to manage information based on its characteristics and intended use.\n",
        "\n",
        "Think of them as containers that hold your data and determine how you can interact with it. Different containers are better suited for different types of items.\n",
        "\n",
        "\n",
        ">Choosing the right data structure significantly impacts the efficiency and >performance of your program.\n",
        ">Well-chosen data structures can:\n",
        ">Simplify data manipulation (adding, removing, modifying elements)\n",
        ">Optimize searching and sorting operations\n",
        ">Conserve memory usage"
      ],
      "metadata": {
        "id": "07z3OXOogfMb"
      }
    },
    {
      "cell_type": "markdown",
      "source": [
        "# Q2.  Explain the difference between mutable and immutable data types with examples.\n"
      ],
      "metadata": {
        "id": "VdCKBZcjhAC9"
      }
    },
    {
      "cell_type": "markdown",
      "source": [
        "Ans.  Mutable data types are those whose values can be changed after they are created,\n",
        "while immutable data types cannot be modified once created."
      ],
      "metadata": {
        "id": "3PAXsEVShIAu"
      }
    },
    {
      "cell_type": "markdown",
      "source": [
        "Mutable Data Types:\n",
        "Lists: Lists are ordered collections of items that can be modified by adding, removing, or changing elements.\n",
        "\n"
      ],
      "metadata": {
        "id": "znp6IvLHhywb"
      }
    },
    {
      "cell_type": "code",
      "source": [
        "    my_list =\n",
        "    my_list = 4  # Modify the first element\n",
        "    my_list.append(5)  # Add an element to the end\n",
        "    print(my_list)  # Output:"
      ],
      "metadata": {
        "id": "ayL8R6tdiEAR"
      },
      "execution_count": null,
      "outputs": []
    },
    {
      "cell_type": "markdown",
      "source": [
        "Dictionaries: Dictionaries are unordered collections of key-value pairs, where the values can be modified by adding, deleting, or changing key-value pairs."
      ],
      "metadata": {
        "id": "9t153i9ziT9o"
      }
    },
    {
      "cell_type": "code",
      "source": [
        "    my_dict = {\"name\": \"Alice\", \"age\": 30}\n",
        "    my_dict[\"age\"] = 31  # Modify the value associated with the \"age\" key\n",
        "    my_dict[\"city\"] = \"New York\"  # Add a new key-value pair\n",
        "    print(my_dict)  # Output: {'name': 'Alice', 'age': 31, 'city': 'New York'}"
      ],
      "metadata": {
        "id": "SAxYvlsgiVje"
      },
      "execution_count": null,
      "outputs": []
    },
    {
      "cell_type": "markdown",
      "source": [
        "Immutable Data Types:\n",
        "Strings: Strings are sequences of characters that cannot be changed once they are created. Any attempt to modify a string will result in a new string object being created."
      ],
      "metadata": {
        "id": "-UJP4IsaiaeI"
      }
    },
    {
      "cell_type": "code",
      "source": [
        "    my_string = \"hello\"\n",
        "    # my_string = 'j'  # This will raise an error because strings are immutable\n",
        "    my_string = \"j\" + my_string[1:]  # Create a new string\n",
        "    print(my_string)  # Output: \"jello\""
      ],
      "metadata": {
        "id": "6b02XBoyiZ1V"
      },
      "execution_count": null,
      "outputs": []
    },
    {
      "cell_type": "markdown",
      "source": [
        "Tuples: Tuples are ordered sequences of items that cannot be modified once they are created. Like strings, any attempt to modify a tuple will result in a new tuple object being created.\n"
      ],
      "metadata": {
        "id": "2VRdLqegiktb"
      }
    },
    {
      "cell_type": "code",
      "source": [
        "    my_tuple = (1, 2, 3)\n",
        "    # my_tuple[0] = 4  # This will raise an error because tuples are immutable\n",
        "    my_tuple = (4,) + my_tuple[1:]  # Create a new tuple\n",
        "    print(my_tuple)  # Output: (4, 2, 3)"
      ],
      "metadata": {
        "id": "2rxBVzDBivgO"
      },
      "execution_count": null,
      "outputs": []
    },
    {
      "cell_type": "markdown",
      "source": [
        "# Q3. What are the main differences between lists and tuples in Python?"
      ],
      "metadata": {
        "id": "gOohyKq9iz0O"
      }
    },
    {
      "cell_type": "markdown",
      "source": [
        "Ans. Lists and tuples are both used to store sequences of items in Python, but they differ significantly in their mutability and usage."
      ],
      "metadata": {
        "id": "HxxjNWFSkza7"
      }
    },
    {
      "cell_type": "markdown",
      "source": [
        "*LIST*\n",
        "\n",
        "\n",
        "*  list are mutable, meaning their elements can be modified (added, removed, or changed) after the list is created.\n",
        "*  list are slightly slower due to their dynamic nature and the need for extra memory for resizing.\n",
        "\n",
        "*  list have a wide range of built-in methods for modifying their content, such as append(), insert(), remove(), sort(), and more.\n",
        "\n",
        "*  list are suitable for situations where the collection of items needs to be changed frequently.\n",
        "\n",
        "*  Lists: are defined using square brackets [].\n",
        "\n",
        "*TUPLE*\n",
        "\n",
        "*   Tuple are immutable, meaning their elements cannot be changed after the tuple is created.\n",
        "\n",
        "*   Tuple are generally faster and more memory-efficient than lists due to their immutability, which allows for certain optimizations.\n",
        "\n",
        "*   Tuple have fewer built-in methods, primarily count() and index(), as they are not designed for modification.\n",
        "\n",
        "*   Tuple are ideal for situations where data should remain constant and unchangeable, such as representing records, coordinates, or configuration settings.\n",
        "\n",
        "*   Tuples: are defined using parentheses ().\n",
        "\n",
        "\n",
        "\n",
        "\n",
        "\n"
      ],
      "metadata": {
        "id": "KQ-f9ihlk5eZ"
      }
    },
    {
      "cell_type": "markdown",
      "source": [
        "#Q4. Describe how dictionaries store data?"
      ],
      "metadata": {
        "id": "BX061CRUmozb"
      }
    },
    {
      "cell_type": "markdown",
      "source": [
        "Ans. Description:\n",
        "\n",
        "*  Unordered collections: Elements are not stored in a specific order.\n",
        "*  Unique key-value pairs: Each key acts as a unique identifier for retrieving an associated value.\n",
        "*  Flexible data: Keys and values can be of various data types (strings, numbers, lists, and even other dictionaries).\n",
        "\n",
        "*Operations (Basic)*:\n",
        "\n",
        "* Add: Use direct assignment (dictionary_name[key] = value) or .update() method.\n",
        "* Access: Retrieve values using their keys (value = dictionary_name[key]).\n",
        "* Remove: Use del dictionary_name[key], .pop(key), or .popitem().\n",
        "* check membership: Use the in operator (key in dictionary_name).\n",
        "\n"
      ],
      "metadata": {
        "id": "7Ac2hrOJm87x"
      }
    },
    {
      "cell_type": "markdown",
      "source": [
        "#Q5. Why might you use a set instead of a list in Python?"
      ],
      "metadata": {
        "id": "LmBGc0F0oDCY"
      }
    },
    {
      "cell_type": "markdown",
      "source": [
        "Ans. Sets and lists are both used to store collections of items in Python, but they have key differences that make them suitable for different tasks. Here's why you might choose a set over a list:\n",
        "1. Uniqueness: Sets only store unique elements. If you try to add a duplicate value, it will be ignored. Lists, on the other hand, allow duplicate elements.\n",
        "2. Unordered: Sets are unordered collections, meaning the elements do not have a specific position or index. Lists are ordered, and elements can be accessed by their index. [1]  \n",
        "3. Membership Testing: Sets are optimized for fast membership testing. Checking if an element exists in a set is much faster than checking in a list, especially for large collections. [2]  \n",
        "4. Mathematical Set Operations: Sets support mathematical set operations like union, intersection, difference, and subset. These operations are not directly available for lists. [2]  \n",
        "5. Removing Duplicates: Sets can be used to quickly remove duplicates from a list or other iterable.\n",
        "When to use a set:\n",
        "\n",
        "• When you need to store a collection of unique elements.\n",
        "• When you need to perform frequent membership tests.\n",
        "• When you need to perform set operations.\n",
        "• When you need to remove duplicates from a collection.\n",
        "\n",
        "When to use a list:\n",
        "\n",
        "• When you need to store an ordered collection of elements.\n",
        "• When you need to allow duplicate elements.\n",
        "• When you need to access elements by their index.\n",
        "• When you need a mutable collection.\n",
        "\n",
        "In summary, sets are useful when uniqueness and speed of membership testing are important, while lists are better for ordered collections that may contain duplicates.\n",
        "\n",
        "AI responses may include mistakes."
      ],
      "metadata": {
        "id": "WTVaEBTjoNgZ"
      }
    },
    {
      "cell_type": "markdown",
      "source": [
        "# Q6. What is a string in Python, and how is it different from a list?"
      ],
      "metadata": {
        "id": "ngnoGyOIrMMC"
      }
    },
    {
      "cell_type": "markdown",
      "source": [
        "Ans. A string is a sequence of characters. A list a sequence of values which can be characters, integers or even another list (referred to as a nested list). A dictionary is a more general version of a list and is made up a set of keys and values where there is a mapping between a given key and its corresponding value.\n",
        "\n",
        "*STRING*\n",
        "\n",
        "Description: Characters arranged in an unchangeable order. Consider writing a sentence, a paragraph, or a piece of material.\n",
        "\n",
        "Operations: Each character in the string can be accessed by its index, or position. Substrings can be extracted using slicing. Strings can be joined together and altered using a variety of techniques (find, replace, etc.).\n",
        "\n",
        "*LIST*\n",
        "\n",
        "Description: Ordered, mutable collections of elements. Think of shopping lists or task lists. Lists can hold items of various data types (numbers, strings, even other lists!).\n",
        "Operations: You can add, remove, or modify elements within a list using indexing and slicing. Lists are versatile for storing and managing collections that might change."
      ],
      "metadata": {
        "id": "H9m6En4XrQIb"
      }
    },
    {
      "cell_type": "markdown",
      "source": [
        "#Q7. How do tuples ensure data integrity in Python?\n"
      ],
      "metadata": {
        "id": "gdGUvBteprxK"
      }
    },
    {
      "cell_type": "markdown",
      "source": [
        "Ans. Tuples in Python ensure data integrity through their immutability. Once a tuple is created, its elements cannot be changed, added, or removed. This characteristic prevents accidental or intentional modifications, making tuples suitable for storing data that should remain constant.\n",
        "Here's how immutability contributes to data integrity:\n",
        "\n",
        "• Protection against accidental changes: Since tuples cannot be modified, there is no risk of unintentionally altering their contents. This is particularly useful when working with sensitive data or configuration settings.\n",
        "• Consistency: Immutability ensures that the data represented by a tuple remains consistent throughout its lifecycle. This can be beneficial in multi-threaded environments where multiple parts of a program might access the same data.\n",
        "• Use as dictionary keys: Because tuples are immutable, they can be used as keys in dictionaries. This is not possible with mutable data types like lists.\n",
        "• Performance: Tuples are generally faster than lists because they are immutable. This means that Python does not need to allocate extra space for potential modifications, leading to improved memory efficiency and faster access times.\n",
        "\n",
        "In summary, the immutability of tuples guarantees that the data they contain is protected from changes, promoting data integrity and reliability in Python programs.\n"
      ],
      "metadata": {
        "id": "5KtAR3DRqkbI"
      }
    },
    {
      "cell_type": "markdown",
      "source": [
        "# Q8. What is a hash table, and how does it relate to dictionaries in Python?"
      ],
      "metadata": {
        "id": "F1qpIKxZqs_r"
      }
    },
    {
      "cell_type": "markdown",
      "source": [
        "Ans.A hash table is a data structure that stores key-value pairs. It uses a hash function to compute an index (hash code) for each key, which determines where the value is stored in an underlying array. This allows for fast retrieval of values based on their keys. [1, 2, 3, 4, 5]  \n",
        "In Python, dictionaries are implemented using hash tables. When you create a dictionary, Python uses a hash function to generate a hash code for each key you insert. This hash code is then used to determine the index where the key-value pair will be stored.\n",
        "This implementation makes dictionaries efficient for looking up values by their keys. The average time complexity for insertion, deletion, and lookup operations in a dictionary is O(1), provided the hash function distributes keys evenly.\n",
        "Here's a breakdown of how hash tables relate to Python dictionaries:\n",
        "\n",
        "• Keys: Dictionary keys must be hashable, meaning they can be converted into a unique hash code. Immutable objects like strings, numbers, and tuples are hashable, while mutable objects like lists and dictionaries are not.\n",
        "• Hash Function: Python uses its built-in hash() function to generate hash codes for keys.\n",
        "• Storage: Key-value pairs are stored in the hash table using the hash code as an index.\n",
        "• Collision Handling: If two keys produce the same hash code (a collision), techniques like chaining or open addressing are used to store them.\n",
        "• Performance: Hash tables enable efficient (average O(1) time complexity) lookup, insertion, and deletion operations for dictionaries.\n"
      ],
      "metadata": {
        "id": "PBcUlZsoqj0e"
      }
    },
    {
      "cell_type": "markdown",
      "source": [
        "# Q9. Can lists contain different data types in Python?\n"
      ],
      "metadata": {
        "id": "PHCbhW-gm8DW"
      }
    },
    {
      "cell_type": "markdown",
      "source": [
        "Ans. Yes, lists in Python can contain elements of different data types. This means a single list can hold a combination of integers, floats, strings, booleans, and even other complex data structures like lists, tuples, or dictionaries."
      ],
      "metadata": {
        "id": "2LTJ0eNGtGPU"
      }
    },
    {
      "cell_type": "code",
      "source": [
        "my_list = [1, \"hello\", 3.14, True, [5, 6]]\n",
        "print(my_list)"
      ],
      "metadata": {
        "id": "Nv0-bHJxtUK6"
      },
      "execution_count": null,
      "outputs": []
    },
    {
      "cell_type": "markdown",
      "source": [
        "This list contains an integer, a string, a float, a boolean, and another list.\n",
        "Python lists are versatile and can be used for various applications, such as:\n",
        "Storing collections of related data.\n",
        "Sequence operations like indexing, slicing, and concatenation.\n",
        "Iterative processing using loops.\n",
        "Dynamic resizing by adding, removing, or modifying elements."
      ],
      "metadata": {
        "id": "xKxN_uUztVYb"
      }
    },
    {
      "cell_type": "markdown",
      "source": [
        "# Q10. Explain why strings are immutable in Python?\n"
      ],
      "metadata": {
        "id": "JnjWArVitceS"
      }
    },
    {
      "cell_type": "markdown",
      "source": [
        "Ans. In Python, strings are immutable, which means that once a string is created, its value cannot be changed. Any operation that appears to modify a string actually creates a new string object.\n",
        "Here are the reasons behind this immutability:\n",
        "\n",
        "• Efficiency: Immutable strings allow Python to optimize memory usage and performance. Python can reuse string objects with the same value, reducing the need to create new objects. This is possible due to a mechanism called string interning.\n",
        "• Safety: Immutability prevents accidental modification of strings. If a string is passed to a function, the function cannot modify the original string, ensuring that the string's value remains consistent throughout the program.\n",
        "• Hashing: Immutable strings can be used as keys in dictionaries because their hash values remain constant. If strings were mutable, their hash values could change, making them unsuitable for dictionary keys.\n",
        "• Method Chaining: Immutable strings enable method chaining because methods return new instances, making it easy to perform multiple operations on the same string.\n",
        "\n",
        "When a string is modified, a new string object is created, and the original string object remains unchanged. This is different from mutable objects like lists, where changes are made in place.\n",
        "For example, if you have a string s = \"hello\" and you try to modify it using s = s + \" world\", you are not modifying the original string object. You are creating a new string object \"hello world\" and assigning it to the variable s. The original string \"hello\" still exists in memory.\n"
      ],
      "metadata": {
        "id": "787tjykatmu0"
      }
    },
    {
      "cell_type": "markdown",
      "source": [
        "#Q11.  What advantages do dictionaries offer over lists for certain tasks?"
      ],
      "metadata": {
        "id": "d07dGFxVt6WB"
      }
    },
    {
      "cell_type": "markdown",
      "source": [
        "Ans.  Dictionaries excel in scenarios requiring fast lookups, key-value associations, and complex data mappings, while lists are ideal for ordered collections, sequential processing, and simple data storage."
      ],
      "metadata": {
        "id": "dpXYR2c8uKo_"
      }
    },
    {
      "cell_type": "markdown",
      "source": [
        "Dictionaries are highly important in Python due to their fast access time and flexibility. They allow for quick data retrieval based on keys, which can significantly speed up the performance of a program, especially when dealing with large datasets. Dictionaries are used extensively in scenarios where there is a need for a logical association between a key and a value, such as in databases, caching mechanisms, and data mappings."
      ],
      "metadata": {
        "id": "o4MM9hHGugsL"
      }
    },
    {
      "cell_type": "markdown",
      "source": [
        "#Q12. Describe a scenario where using a tuple would be preferable over a list?"
      ],
      "metadata": {
        "id": "jPgQ5nNcuiBF"
      }
    },
    {
      "cell_type": "markdown",
      "source": [
        "Ans.  Use a list if you need a mutable collection of items where you may need to add, remove, or change elements. Lists are more flexible and have more built-in methods, making them ideal for dynamic collections. Use a tuple if you need an immutable collection where the elements won't change after creation."
      ],
      "metadata": {
        "id": "pRfs0Gy6uqg6"
      }
    },
    {
      "cell_type": "markdown",
      "source": [
        "#Q13. How do sets handle duplicate values in Python?"
      ],
      "metadata": {
        "id": "VmzLqQTqv0Ne"
      }
    },
    {
      "cell_type": "markdown",
      "source": [],
      "metadata": {
        "id": "2J2RHB_vwa7r"
      }
    },
    {
      "cell_type": "markdown",
      "source": [
        "Ans. In Python, sets are designed to store only unique elements. When you attempt to add a duplicate value to a set, it does not raise an error, but the duplicate value is simply ignored, and the set remains unchanged.\n",
        "Here's how sets handle duplicates:\n",
        "\n",
        "• Uniqueness: Sets inherently maintain uniqueness among their elements. If you try to add an element that already exists, the set will not include it again.\n",
        "• No Error: Adding duplicate elements doesn't cause any error. The set simply disregards the duplicate.\n",
        "• Immutability: Set elements must be immutable objects, such as numbers, strings, or tuples. Lists and dictionaries cannot be elements of a set. [1]  \n",
        "• Unordered: Sets do not preserve the order of elements and do not support indexing.\n",
        "\n",
        "Example:\n",
        "my_set = {1, 2, 2, 3, 4, 4, 5}\n",
        "print(my_set)  # Output: {1, 2, 3, 4, 5}\n",
        "\n",
        "In this example, even though the values 2 and 4 are added multiple times, the resulting set only contains one instance of each unique value.\n",
        "This property of sets makes them useful for tasks such as removing duplicates from lists or checking for unique elements in a collection.\n"
      ],
      "metadata": {
        "id": "HhNrWuFTt2Pk"
      }
    },
    {
      "cell_type": "markdown",
      "source": [
        "#Q14. How does the “in” keyword work differently for lists and dictionaries?\n"
      ],
      "metadata": {
        "id": "KcnsZ4hSwipE"
      }
    },
    {
      "cell_type": "markdown",
      "source": [
        "Ans. The in and not in operator works on dictionaries; it tells you whether something appears or not as a key in the dictionary. It returns two values True or False. The in operator uses different algorithms for lists and dictionaries. For lists, it uses a search algorithm.\n",
        "\n"
      ],
      "metadata": {
        "id": "k_QOqQkiwufn"
      }
    },
    {
      "cell_type": "markdown",
      "source": [
        "#Q15. Can you modify the elements of a tuple? Explain why or why not?"
      ],
      "metadata": {
        "id": "T3CaeBqbyh1d"
      }
    },
    {
      "cell_type": "markdown",
      "source": [
        "No, we cannot directly modify the elements of a tuple after it has been created. Tuples are immutable data structures, meaning their contents cannot be changed, added to, or removed from once they are defined. This immutability ensures that the data within a tuple remains consistent and predictable throughout its lifetime. [1, 2, 3, 4, 5]  \n",
        "Explanation:\n",
        "\n",
        "• Immutability: Tuples are designed to be immutable, which is a fundamental characteristic.\n",
        "• No built-in modification methods: Unlike lists, tuples do not have built-in methods for modifying their contents, such as append(), insert(), or remove().  \n",
        "• Trying to modify a tuple results in an error: Attempting to change an element of a tuple will raise a TypeError.\n",
        "\n",
        "Why Tuples are Immutable:\n",
        "\n",
        "• Consistency and Predictability: Immutability ensures that the values within a tuple remain consistent, making them reliable for situations where data integrity is crucial.  \n",
        "• Efficiency: Since tuples are immutable, their memory addresses remain constant, allowing for efficient access and iteration.\n",
        "• Use Cases: Tuples are well-suited for applications like representing fixed sets of data, such as coordinates, records, or keys in dictionaries.\n"
      ],
      "metadata": {
        "id": "9xxNnM4ayurn"
      }
    },
    {
      "cell_type": "markdown",
      "source": [
        "#Q16. What is a nested dictionary, and give an example of its use case?"
      ],
      "metadata": {
        "id": "XIqO08F7zQvN"
      }
    },
    {
      "cell_type": "markdown",
      "source": [
        "Ans. A nested dictionary in Python is a dictionary where the values are themselves dictionaries. This allows you to create hierarchical or multi-level data structures, where each dictionary can contain other dictionaries as its values.\n",
        "\n",
        "\n"
      ],
      "metadata": {
        "id": "q4OJ2CM8zNwr"
      }
    },
    {
      "cell_type": "code",
      "source": [
        "# Outer dictionary\n",
        "employees = {\n",
        "    \"department1\": {\n",
        "        \"employee1\": {\"name\": \"Alice\", \"position\": \"Software Engineer\"},\n",
        "        \"employee2\": {\"name\": \"Bob\", \"position\": \"Data Analyst\"}\n",
        "    },\n",
        "    \"department2\": {\n",
        "        \"employee3\": {\"name\": \"Charlie\", \"position\": \"Project Manager\"},\n",
        "        \"employee4\": {\"name\": \"David\", \"position\": \"UI/UX Designer\"}\n",
        "    }\n",
        "}\n",
        "\n",
        "# Accessing nested values:\n",
        "print(employees[\"department1\"][\"employee1\"][\"name\"]) # Output: Alice\n",
        "print(employees[\"department2\"][\"employee3\"][\"position\"]) # Output: Project Manager"
      ],
      "metadata": {
        "colab": {
          "base_uri": "https://localhost:8080/"
        },
        "id": "GccBly7szu6r",
        "outputId": "f4cd9fbd-bcd1-4a2f-ec17-4c4fdbecc463"
      },
      "execution_count": null,
      "outputs": [
        {
          "output_type": "stream",
          "name": "stdout",
          "text": [
            "Alice\n",
            "Project Manager\n"
          ]
        }
      ]
    },
    {
      "cell_type": "markdown",
      "source": [
        "In this example:\n",
        "employees is the outer dictionary.\n",
        "The values of employees (department1, department2) are also dictionaries.\n",
        "Each of those inner dictionaries contains dictionaries as values (employee1, employee2, etc.), representing employee information.\n",
        "We can access specific information (like an employee's name or position) by chaining the keys: employees[department][employee][attribute].\n",
        "Use Cases:\n",
        "Nested dictionaries are particularly useful for:\n",
        "1. Organizing Hierarchical Data:\n",
        "Representing structures like employee departments, file systems, or product categories.\n",
        "2. Storing Complex Data:\n",
        "Storing data where attributes are themselves organized into subgroups or sub-elements.\n",
        "3. Working with APIs and JSON:\n",
        "Many APIs and data formats (like JSON) naturally use nested structures, making nested dictionaries an efficient way to handle such data.\n",
        "4. Modeling Entities with Relationships:\n",
        "Creating representations of objects with attributes and relationships (e.g., a customer with their orders or a product with its features)"
      ],
      "metadata": {
        "id": "HkdmAQdNz-HV"
      }
    },
    {
      "cell_type": "markdown",
      "source": [
        "#Q17. Describe the time complexity of accessing elements in a dictionary?\n"
      ],
      "metadata": {
        "id": "mgi4EgkX0ACa"
      }
    },
    {
      "cell_type": "markdown",
      "source": [
        "Ans. Accessing an element in a dictionary typically has an average time complexity of O(1), meaning it takes constant time regardless of the dictionary's size. This is due to the use of a hash table, which allows for direct lookup of elements based on their key. In the worst-case scenario, where a hash function causes many collisions, the time complexity can degrade to O(n), where n is the number of elements in the dictionary.\n",
        "\n",
        "Here's a more detailed explanation:\n",
        "\n",
        "• O(1) - Average Case: Dictionaries use a hash table, which is an array-like structure that uses a hash function to map keys to specific indices (or \"buckets\") within the array. When accessing an element, the dictionary calculates the hash value for the key and uses it to directly locate the corresponding value in the hash table. This direct access is what gives dictionaries their constant time lookup performance.   \n",
        "\n",
        "• O(n) - Worst Case: In the worst-case scenario, a hash function might map multiple keys to the same bucket, leading to collisions. When a collision occurs, the dictionary needs to search within that bucket (which could be implemented as a linked list or other data structure) to find the desired value. If there are many collisions, this search can become linear, resulting in an O(n) time complexity.\n",
        "\n",
        "• Practical Considerations: While the worst-case O(n) complexity is theoretically possible, it is uncommon in practice with good hash functions and well-designed dictionaries.\n",
        "\n",
        "• Key-Based Access: Dictionaries are designed for fast access of elements based on their keys, making them ideal for situations where you need to retrieve a value associated with a specific key quickly.\n"
      ],
      "metadata": {
        "id": "lcUopuOo0UGP"
      }
    },
    {
      "cell_type": "markdown",
      "source": [
        "#Q18. In what situations are lists preferred over dictionaries?\n"
      ],
      "metadata": {
        "id": "i5efCvgN0iaw"
      }
    },
    {
      "cell_type": "markdown",
      "source": [
        "Ans. For quick data look-ups, configurations, or caches, favor dictionaries. For ordered collections and sequence operations, such as maintaining a stack or queue, lists are more suitable.\n",
        "\n"
      ],
      "metadata": {
        "id": "o9T6RYsfz9cS"
      }
    },
    {
      "cell_type": "markdown",
      "source": [
        "#Q19. Why are dictionaries considered unordered, and how does that affect data retrieval?"
      ],
      "metadata": {
        "id": "UY_a4-hh0973"
      }
    },
    {
      "cell_type": "markdown",
      "source": [
        "Ans. Data retrieval means obtaining data from a database management system (DBMS), like for example an object-oriented database (ODBMS). In this case, it is considered that data is represented in a structured way, and there is no ambiguity in data.\n",
        "\n",
        "In order to retrieve the desired data the user presents a set of criteria by a query. Then the database management system selects the demanded data from the database. The retrieved data may be stored in a file, printed, or viewed on the screen.\n",
        "\n",
        "A query language, like for example Structured Query Language (SQL), is used to prepare the queries. SQL is an American National Standards Institute (ANSI) standardized query language developed specifically to write database queries. Each database management system may have its own language, but most are relational.\n",
        "\n",
        "\n",
        "A dictionary is termed an unordered collection of objects because dictionaries do not maintain any inherent order of the items based on when they were added. In older versions of Python (before 3.7), dictionaries did not preserve insertion order at all. This meant that when you accessed or printed the items, the order could vary, as dictionaries were optimized for fast lookups rather than maintaining order."
      ],
      "metadata": {
        "id": "_Fpc83m51Szt"
      }
    },
    {
      "cell_type": "markdown",
      "source": [
        "#Q20. Explain the difference between a list and a dictionary in terms of data retrieval?"
      ],
      "metadata": {
        "id": "-k4qRJA508Xd"
      }
    },
    {
      "cell_type": "markdown",
      "source": [
        "Ans. In terms of data retrieval, lists are accessed by index, while dictionaries are accessed by key. This means that to retrieve a specific element from a list, you use its numerical position (starting from 0), whereas for a dictionary, you use the associated key to find the corresponding value. [1, 2, 3, 4, 5]  \n",
        "Here's a more detailed explanation:\n",
        "Lists:\n",
        "\n",
        "• Lists are ordered sequences of elements, where each element has a specific position or index. [1, 5, 6]  \n",
        "• Elements are accessed using their index, starting from 0 for the first element, 1 for the second, and so on. [5, 7, 8, 9, 10]  \n",
        "• For example, to retrieve the 3rd element of a list, you would use the index 2. [11]  \n",
        "\n",
        "Dictionaries:\n",
        "\n",
        "• Dictionaries are collections of key-value pairs, where each key must be unique. [1, 5, 12]  \n",
        "• Elements (values) are accessed by their corresponding keys. [2, 5]  \n",
        "• Keys can be of various data types, not just integers like in lists. [4, 13]  \n",
        "• For example, to retrieve the value associated with the key \"name\", you would use the key \"name\". [14, 15]  \n",
        "\n",
        "In essence:\n",
        "\n",
        "• Lists: Use a numerical index (position) to retrieve elements.\n",
        "• Dictionaries: Use a key to retrieve associated values. [16, 17, 18]  \n",
        "\n",
        "Example (Python):\n",
        "# List\n",
        "my_list = [\"apple\", \"banana\", \"cherry\"]\n",
        "print(my_list[0])  # Output: \"apple\" (accessing by index)\n",
        "\n",
        "# Dictionary\n",
        "my_dict = {\"name\": \"Alice\", \"age\": 30}\n",
        "print(my_dict[\"name\"])  # Output: \"Alice\" (accessing by key)\n"
      ],
      "metadata": {
        "id": "LabLOzC62p7E"
      }
    },
    {
      "cell_type": "markdown",
      "source": [
        "#Practical Questions\n"
      ],
      "metadata": {
        "id": "3iM42dka3bNF"
      }
    },
    {
      "cell_type": "markdown",
      "source": [
        "# Q1. Write a code to create a string with your name and print it?"
      ],
      "metadata": {
        "id": "S8GukKEiSV2J"
      }
    },
    {
      "cell_type": "code",
      "source": [
        "print(\"firdous\")"
      ],
      "metadata": {
        "colab": {
          "base_uri": "https://localhost:8080/"
        },
        "id": "BrAqx06JShN-",
        "outputId": "1e0d4c92-3f71-4f16-b4f3-0effc752fde8"
      },
      "execution_count": 1,
      "outputs": [
        {
          "output_type": "stream",
          "name": "stdout",
          "text": [
            "firdous\n"
          ]
        }
      ]
    },
    {
      "cell_type": "markdown",
      "source": [
        "# Q2. Write a code to find the length of the string \"Hello World\"?"
      ],
      "metadata": {
        "id": "jWb3TUcCTkvk"
      }
    },
    {
      "cell_type": "code",
      "source": [
        "len(\"hello world\")"
      ],
      "metadata": {
        "id": "aFLwWZ0y2mAN",
        "colab": {
          "base_uri": "https://localhost:8080/"
        },
        "outputId": "5671c15e-1a44-4d1c-f913-98408fcdfa5b"
      },
      "execution_count": 2,
      "outputs": [
        {
          "output_type": "execute_result",
          "data": {
            "text/plain": [
              "11"
            ]
          },
          "metadata": {},
          "execution_count": 2
        }
      ]
    },
    {
      "cell_type": "markdown",
      "source": [
        "# Q3. Write a code to slice the first 3 characters from the string \"Python Programming\"?\n"
      ],
      "metadata": {
        "id": "m6opSgV0TxNh"
      }
    },
    {
      "cell_type": "code",
      "source": [
        "\"python\"\n",
        " [0:3]"
      ],
      "metadata": {
        "colab": {
          "base_uri": "https://localhost:8080/",
          "height": 36
        },
        "id": "JKBG9HLvTv9k",
        "outputId": "1fe68313-89ef-4288-9333-d702d0b9bf2e"
      },
      "execution_count": 6,
      "outputs": [
        {
          "output_type": "execute_result",
          "data": {
            "text/plain": [
              "'pyt'"
            ],
            "application/vnd.google.colaboratory.intrinsic+json": {
              "type": "string"
            }
          },
          "metadata": {},
          "execution_count": 6
        }
      ]
    },
    {
      "cell_type": "markdown",
      "source": [
        "# Q4. Write a code to convert the string \"hello\" to uppercase?"
      ],
      "metadata": {
        "id": "FQVb0Gp0Ue5z"
      }
    },
    {
      "cell_type": "code",
      "source": [
        "\"hello\"\n",
        "\"hello\".upper()"
      ],
      "metadata": {
        "colab": {
          "base_uri": "https://localhost:8080/",
          "height": 36
        },
        "id": "0lgfk2WqUoKf",
        "outputId": "4fb0b549-688b-48d7-85f9-4e93fdd47c56"
      },
      "execution_count": 7,
      "outputs": [
        {
          "output_type": "execute_result",
          "data": {
            "text/plain": [
              "'HELLO'"
            ],
            "application/vnd.google.colaboratory.intrinsic+json": {
              "type": "string"
            }
          },
          "metadata": {},
          "execution_count": 7
        }
      ]
    },
    {
      "cell_type": "markdown",
      "source": [
        "# Q5.  Write a code to replace the word \"apple\" with \"orange\" in the string \"I like apple\"?"
      ],
      "metadata": {
        "id": "QlP1E0tHVO1C"
      }
    },
    {
      "cell_type": "code",
      "source": [
        "\"I like apple\".replace(\"apple\",\"orange\")"
      ],
      "metadata": {
        "colab": {
          "base_uri": "https://localhost:8080/",
          "height": 36
        },
        "id": "td04NJe6VhA6",
        "outputId": "3ff02fc5-d485-49dc-e9b3-4c9b4e077ce5"
      },
      "execution_count": 8,
      "outputs": [
        {
          "output_type": "execute_result",
          "data": {
            "text/plain": [
              "'I like orange'"
            ],
            "application/vnd.google.colaboratory.intrinsic+json": {
              "type": "string"
            }
          },
          "metadata": {},
          "execution_count": 8
        }
      ]
    },
    {
      "cell_type": "markdown",
      "source": [
        "# Q6. Write a code to create a list with numbers 1 to 5 and print it?"
      ],
      "metadata": {
        "id": "k88X0pOZVr7H"
      }
    },
    {
      "cell_type": "code",
      "source": [
        "numbers = list(range(1, 6))\n",
        "print(numbers)"
      ],
      "metadata": {
        "colab": {
          "base_uri": "https://localhost:8080/"
        },
        "id": "4NyNBkCdV5K-",
        "outputId": "b69c2fd7-e933-479f-8613-67f880f0223c"
      },
      "execution_count": 9,
      "outputs": [
        {
          "output_type": "stream",
          "name": "stdout",
          "text": [
            "[1, 2, 3, 4, 5]\n"
          ]
        }
      ]
    },
    {
      "cell_type": "markdown",
      "source": [
        "# Q7. Write a code to append the number 10 to the list [1, 2, 3, 4]?"
      ],
      "metadata": {
        "id": "FnBGo0yDVrfA"
      }
    },
    {
      "cell_type": "code",
      "source": [
        "list=[1,2,3,4]\n",
        "list.append(10)\n",
        "print(list)\n"
      ],
      "metadata": {
        "colab": {
          "base_uri": "https://localhost:8080/"
        },
        "id": "CzKQQOn3Wccf",
        "outputId": "04052b49-2eb2-413e-913f-6a7055c30773"
      },
      "execution_count": 12,
      "outputs": [
        {
          "output_type": "stream",
          "name": "stdout",
          "text": [
            "[1, 2, 3, 4, 10]\n"
          ]
        }
      ]
    },
    {
      "cell_type": "markdown",
      "source": [
        "#Q8. Write a code to remove the number 3 from the list [1, 2, 3, 4, 5]?"
      ],
      "metadata": {
        "id": "6eek75vsW2Qb"
      }
    },
    {
      "cell_type": "code",
      "source": [
        "list = [1,2,3,4,5]\n",
        "list.remove(3)\n",
        "print(list)\n"
      ],
      "metadata": {
        "colab": {
          "base_uri": "https://localhost:8080/"
        },
        "id": "siyJSUpKW8t5",
        "outputId": "13eb14e7-0760-4c69-aafd-2b4b095968cf"
      },
      "execution_count": 13,
      "outputs": [
        {
          "output_type": "stream",
          "name": "stdout",
          "text": [
            "[1, 2, 4, 5]\n"
          ]
        }
      ]
    },
    {
      "cell_type": "markdown",
      "source": [
        "# Q9. Write a code to access the second element in the list ['a', 'b', 'c', 'd']?"
      ],
      "metadata": {
        "id": "N6JSvD5RXUcS"
      }
    },
    {
      "cell_type": "code",
      "source": [
        "list=[\"a\",\"b\",\"c\",\"d\"]\n",
        "list[1]"
      ],
      "metadata": {
        "colab": {
          "base_uri": "https://localhost:8080/",
          "height": 36
        },
        "id": "L91Vb2ZOXetL",
        "outputId": "22069d5f-e974-401f-9055-a0e5688914c3"
      },
      "execution_count": 14,
      "outputs": [
        {
          "output_type": "execute_result",
          "data": {
            "text/plain": [
              "'b'"
            ],
            "application/vnd.google.colaboratory.intrinsic+json": {
              "type": "string"
            }
          },
          "metadata": {},
          "execution_count": 14
        }
      ]
    },
    {
      "cell_type": "markdown",
      "source": [
        "# Q10.  Write a code to reverse the list [10, 20, 30, 40, 50]?"
      ],
      "metadata": {
        "id": "oshAKjlkX7S7"
      }
    },
    {
      "cell_type": "code",
      "source": [
        "list = [10, 20, 30, 40, 50]\n",
        "list.reverse()\n",
        "print(list)"
      ],
      "metadata": {
        "colab": {
          "base_uri": "https://localhost:8080/"
        },
        "id": "vXFRSKenX39F",
        "outputId": "6ce1892d-1415-43c8-af25-3783db55c97e"
      },
      "execution_count": 15,
      "outputs": [
        {
          "output_type": "stream",
          "name": "stdout",
          "text": [
            "[50, 40, 30, 20, 10]\n"
          ]
        }
      ]
    },
    {
      "cell_type": "markdown",
      "source": [
        "# Q11. Write a code to create a tuple with the elements 100, 200, 300 and print it?"
      ],
      "metadata": {
        "id": "GzQLvoguYUfb"
      }
    },
    {
      "cell_type": "code",
      "source": [
        "elements = (100,200,300)\n",
        "type(elements)"
      ],
      "metadata": {
        "colab": {
          "base_uri": "https://localhost:8080/"
        },
        "id": "UjxgdSX_Y5Np",
        "outputId": "5ec91b45-8fdf-46de-c4ca-0dc7bfac15ba"
      },
      "execution_count": 16,
      "outputs": [
        {
          "output_type": "execute_result",
          "data": {
            "text/plain": [
              "tuple"
            ]
          },
          "metadata": {},
          "execution_count": 16
        }
      ]
    },
    {
      "cell_type": "code",
      "source": [
        "my_tuple = (100, 200, 300)\n",
        "print(my_tuple)"
      ],
      "metadata": {
        "colab": {
          "base_uri": "https://localhost:8080/"
        },
        "id": "WaW_D5zeZOUf",
        "outputId": "2d42dfb6-187b-49f7-e377-7eaa37d5aac1"
      },
      "execution_count": 17,
      "outputs": [
        {
          "output_type": "stream",
          "name": "stdout",
          "text": [
            "(100, 200, 300)\n"
          ]
        }
      ]
    },
    {
      "cell_type": "markdown",
      "source": [
        "# Q12.  Write a code to access the second-to-last element of the tuple ('red', 'green', 'blue', 'yellow')?"
      ],
      "metadata": {
        "id": "AGtknBSIZSfD"
      }
    },
    {
      "cell_type": "code",
      "source": [
        "tuple = ('red', 'green', 'blue', 'yellow')\n",
        "print(tuple[-2])"
      ],
      "metadata": {
        "colab": {
          "base_uri": "https://localhost:8080/"
        },
        "id": "lV5rQ60CZOC5",
        "outputId": "1a554e7d-f898-4335-e716-a965aaa446f8"
      },
      "execution_count": 18,
      "outputs": [
        {
          "output_type": "stream",
          "name": "stdout",
          "text": [
            "blue\n"
          ]
        }
      ]
    },
    {
      "cell_type": "markdown",
      "source": [
        "#Q13.  Write a code to find the minimum number in the tuple (10, 20, 5, 15)?"
      ],
      "metadata": {
        "id": "1w5rMV0GZwwK"
      }
    },
    {
      "cell_type": "code",
      "source": [
        "Number = (10, 20, 5, 15)\n",
        "print(min(Number))"
      ],
      "metadata": {
        "colab": {
          "base_uri": "https://localhost:8080/"
        },
        "id": "KnQuHgE7Z1ED",
        "outputId": "133880c1-2606-4b90-be0e-d7bfe382c0d8"
      },
      "execution_count": 19,
      "outputs": [
        {
          "output_type": "stream",
          "name": "stdout",
          "text": [
            "5\n"
          ]
        }
      ]
    },
    {
      "cell_type": "markdown",
      "source": [
        "#Q14.   Write a code to find the index of the element \"cat\" in the tuple ('dog', 'cat', 'rabbit')?"
      ],
      "metadata": {
        "id": "hU4NNKwSZ_5n"
      }
    },
    {
      "cell_type": "code",
      "source": [
        "tuple = ('dog', 'cat', 'rabbit')\n",
        "print(tuple.index('cat'))"
      ],
      "metadata": {
        "colab": {
          "base_uri": "https://localhost:8080/"
        },
        "id": "Ap50p2QuaL7e",
        "outputId": "e3091116-2c90-4616-a905-43d4c475f0ce"
      },
      "execution_count": 20,
      "outputs": [
        {
          "output_type": "stream",
          "name": "stdout",
          "text": [
            "1\n"
          ]
        }
      ]
    },
    {
      "cell_type": "markdown",
      "source": [
        "# Q15. Write a code to create a tuple containing three different fruits and check if \"kiwi\" is in it?"
      ],
      "metadata": {
        "id": "HIRLIPY9aShY"
      }
    },
    {
      "cell_type": "code",
      "source": [
        "tuple = ('apple', 'banana', 'orange')\n",
        "print('kiwi' in tuple)"
      ],
      "metadata": {
        "colab": {
          "base_uri": "https://localhost:8080/"
        },
        "id": "ma1SBvKMabXO",
        "outputId": "b7a66179-7627-406f-a5ab-cb3f27cfbb59"
      },
      "execution_count": 21,
      "outputs": [
        {
          "output_type": "stream",
          "name": "stdout",
          "text": [
            "False\n"
          ]
        }
      ]
    },
    {
      "cell_type": "markdown",
      "source": [
        "# Q16. Write a code to create a set with the elements 'a', 'b', 'c' and print it?"
      ],
      "metadata": {
        "id": "LNLTeEsfal2M"
      }
    },
    {
      "cell_type": "code",
      "source": [
        "my_set = {'a', 'b', 'c'}\n",
        "print(my_set)"
      ],
      "metadata": {
        "colab": {
          "base_uri": "https://localhost:8080/"
        },
        "id": "b6KWGAOmavYT",
        "outputId": "96909fe7-76ff-4385-961b-df3932ecd0db"
      },
      "execution_count": 22,
      "outputs": [
        {
          "output_type": "stream",
          "name": "stdout",
          "text": [
            "{'c', 'b', 'a'}\n"
          ]
        }
      ]
    },
    {
      "cell_type": "markdown",
      "source": [
        "#Q17. Write a code to clear all elements from the set {1, 2, 3, 4, 5}?"
      ],
      "metadata": {
        "id": "mVnfDL4Ga9vP"
      }
    },
    {
      "cell_type": "code",
      "source": [
        "set = {1, 2, 3, 4, 5}\n",
        "set.clear()\n",
        "print(set)"
      ],
      "metadata": {
        "colab": {
          "base_uri": "https://localhost:8080/"
        },
        "id": "jRyT5ggZbJGO",
        "outputId": "fc66de51-d3a3-436f-debd-89aaf10b6c03"
      },
      "execution_count": 23,
      "outputs": [
        {
          "output_type": "stream",
          "name": "stdout",
          "text": [
            "set()\n"
          ]
        }
      ]
    },
    {
      "cell_type": "markdown",
      "source": [
        "#Q18. Write a code to remove the element 4 from the set {1, 2, 3, 4}?\n"
      ],
      "metadata": {
        "id": "j6QZIz2VbSgD"
      }
    },
    {
      "cell_type": "code",
      "source": [
        "set = {1, 2, 3, 4}\n",
        "set.remove(4)\n",
        "print(set)"
      ],
      "metadata": {
        "colab": {
          "base_uri": "https://localhost:8080/"
        },
        "id": "R2tfHVYmbcG5",
        "outputId": "ccc14797-d9c5-44a4-cde8-ba629919f884"
      },
      "execution_count": 24,
      "outputs": [
        {
          "output_type": "stream",
          "name": "stdout",
          "text": [
            "{1, 2, 3}\n"
          ]
        }
      ]
    },
    {
      "cell_type": "markdown",
      "source": [
        "# Q19. Write a code to find the union of two sets {1, 2, 3} and {3, 4, 5}?"
      ],
      "metadata": {
        "id": "Tw7OBueqbhyN"
      }
    },
    {
      "cell_type": "code",
      "source": [
        "A = {1, 2, 3}\n",
        "B = {3, 4, 5}\n",
        "\n",
        "print(A.union(B))  # Combining both sets\n"
      ],
      "metadata": {
        "colab": {
          "base_uri": "https://localhost:8080/"
        },
        "id": "L8JTUTWxbmKH",
        "outputId": "579a61a7-faa1-489c-fd80-953e140b823f"
      },
      "execution_count": 27,
      "outputs": [
        {
          "output_type": "stream",
          "name": "stdout",
          "text": [
            "{1, 2, 3, 4, 5}\n"
          ]
        }
      ]
    },
    {
      "cell_type": "markdown",
      "source": [
        "#Q20. Write a code to find the intersection of two sets {1, 2, 3} and {2, 3, 4}."
      ],
      "metadata": {
        "id": "p-CLTCVgdLjY"
      }
    },
    {
      "cell_type": "code",
      "source": [
        "a = {1,2,3}\n",
        "b = {2,3,4}\n",
        "print(a.intersection(b))\n"
      ],
      "metadata": {
        "colab": {
          "base_uri": "https://localhost:8080/"
        },
        "id": "0xst3EvEdUPc",
        "outputId": "a60aa43b-f74a-4983-a52c-24f49fe5d970"
      },
      "execution_count": 28,
      "outputs": [
        {
          "output_type": "stream",
          "name": "stdout",
          "text": [
            "{2, 3}\n"
          ]
        }
      ]
    },
    {
      "cell_type": "markdown",
      "source": [
        "#Q21. Write a code to create a dictionary with the keys \"name\", \"age\", and \"city\", and print it?"
      ],
      "metadata": {
        "id": "ehMlxWGSdsAy"
      }
    },
    {
      "cell_type": "code",
      "source": [
        "my_dict =  {\"name\": \"John\", \"age\": 25, \"city\": \"New York\"}\n",
        "print(my_dict)\n"
      ],
      "metadata": {
        "colab": {
          "base_uri": "https://localhost:8080/"
        },
        "id": "DJuTO1jAd2Av",
        "outputId": "08e1ce76-6d66-4195-b70e-76674347e354"
      },
      "execution_count": 29,
      "outputs": [
        {
          "output_type": "stream",
          "name": "stdout",
          "text": [
            "{'name': 'John', 'age': 25, 'city': 'New York'}\n"
          ]
        }
      ]
    },
    {
      "cell_type": "markdown",
      "source": [
        "# Q22. Write a code to add a new key-value pair \"country\": \"USA\" to the dictionary {'name': 'John', 'age': 25}?"
      ],
      "metadata": {
        "id": "29Pz1W9veRp_"
      }
    },
    {
      "cell_type": "code",
      "source": [
        "my_dict = {\"name\":\"john\", \"age\" : 25}\n",
        "print(my_dict)\n",
        "my_dict[\"country\"] = \"USA\"\n",
        "print(my_dict)"
      ],
      "metadata": {
        "colab": {
          "base_uri": "https://localhost:8080/"
        },
        "id": "Gp2G4hD9eYTB",
        "outputId": "efe9873c-afdf-414e-fbc9-11edf562bd9f"
      },
      "execution_count": 30,
      "outputs": [
        {
          "output_type": "stream",
          "name": "stdout",
          "text": [
            "{'name': 'john', 'age': 25}\n",
            "{'name': 'john', 'age': 25, 'country': 'USA'}\n"
          ]
        }
      ]
    },
    {
      "cell_type": "markdown",
      "source": [
        "#Q23. Write a code to access the value associated with the key \"name\" in the dictionary {'name': 'Alice', 'age': 30}?"
      ],
      "metadata": {
        "id": "-fVPNpomespr"
      }
    },
    {
      "cell_type": "code",
      "source": [
        "my_dict = {\"name\": \"alice\", \"age\": 30}\n",
        "name_value = my_dict[\"name\"]\n",
        "print(name_value)"
      ],
      "metadata": {
        "colab": {
          "base_uri": "https://localhost:8080/"
        },
        "id": "fril94pcexOX",
        "outputId": "e230dd96-2032-4177-a315-034278effc28"
      },
      "execution_count": 31,
      "outputs": [
        {
          "output_type": "stream",
          "name": "stdout",
          "text": [
            "alice\n"
          ]
        }
      ]
    },
    {
      "cell_type": "markdown",
      "source": [
        "#Q24. Write a code to remove the key \"age\" from the dictionary {'name': 'Bob', 'age': 22, 'city': 'New York'}."
      ],
      "metadata": {
        "id": "z7VeDihGfA0y"
      }
    },
    {
      "cell_type": "code",
      "source": [
        "my_dict = {'name': 'Bob', 'age': 22, 'city': 'New York'}\n",
        "del my_dict['age']\n",
        "print(my_dict)"
      ],
      "metadata": {
        "colab": {
          "base_uri": "https://localhost:8080/"
        },
        "id": "BgggZzTrfGvO",
        "outputId": "86dfc813-3522-44c9-a7f4-46c98043fb74"
      },
      "execution_count": 32,
      "outputs": [
        {
          "output_type": "stream",
          "name": "stdout",
          "text": [
            "{'name': 'Bob', 'city': 'New York'}\n"
          ]
        }
      ]
    },
    {
      "cell_type": "markdown",
      "source": [
        "#Q25. Write a code to check if the key \"city\" exists in the dictionary {'name': 'Alice', 'city': 'Paris'}."
      ],
      "metadata": {
        "id": "HcUl8W6qfK9P"
      }
    },
    {
      "cell_type": "code",
      "source": [
        "my_dict = {\"name\":\"alice\", \"city\":\"paris\"}\n",
        " if my_dict\n",
        ""
      ],
      "metadata": {
        "id": "y-OGkeXgfKH6"
      },
      "execution_count": null,
      "outputs": []
    },
    {
      "cell_type": "markdown",
      "source": [
        "#Q26. Write a code to create a list, a tuple, and a dictionary, and print them all?"
      ],
      "metadata": {
        "id": "_wD05i1VgePK"
      }
    },
    {
      "cell_type": "code",
      "source": [
        "color_list= [\"green\", \"blue\", \"red\"]\n",
        "color_tuple = (\"green\", \"blue\", \"red\")\n",
        "color_dictionary = {\"color1\": \"green\", \"color2\": \"blue\", \"color3\": \"red\"}\n",
        "\n",
        "print(color_list)\n",
        "print(color_tuple)\n",
        "print(color_dictionary)\n"
      ],
      "metadata": {
        "colab": {
          "base_uri": "https://localhost:8080/"
        },
        "id": "u6BUATSQgdeQ",
        "outputId": "2e4318b2-9c45-4c36-f041-affdefc620da"
      },
      "execution_count": 33,
      "outputs": [
        {
          "output_type": "stream",
          "name": "stdout",
          "text": [
            "['green', 'blue', 'red']\n",
            "('green', 'blue', 'red')\n",
            "{'color1': 'green', 'color2': 'blue', 'color3': 'red'}\n"
          ]
        }
      ]
    },
    {
      "cell_type": "markdown",
      "source": [
        "# Q27. Write a code to create a list of 5 random numbers between 1 and 100, sort it in ascending order, and print the result.(replaced)"
      ],
      "metadata": {
        "id": "PBFvHH3nhGjs"
      }
    },
    {
      "cell_type": "code",
      "source": [
        "# Generate 5 random numbers between 1 and 100\n",
        "random_numbers = [random.randint(1, 100) for _ in range(5)]\n",
        "\n",
        "# Sort the list in ascending order\n",
        "random_numbers.sort()\n",
        "\n",
        "# Print the sorted list\n",
        "print(random_numbers)"
      ],
      "metadata": {
        "colab": {
          "base_uri": "https://localhost:8080/"
        },
        "id": "aJVvZ83nhOHT",
        "outputId": "97ae82d3-1ec9-4984-834e-9ecd241d4323"
      },
      "execution_count": 34,
      "outputs": [
        {
          "output_type": "stream",
          "name": "stdout",
          "text": [
            "[17, 67, 77, 94, 97]\n"
          ]
        }
      ]
    },
    {
      "cell_type": "markdown",
      "source": [
        "#Q28. Write a code to create a list with strings and print the element at the third index."
      ],
      "metadata": {
        "id": "7URvA_u8iCJY"
      }
    },
    {
      "cell_type": "code",
      "source": [
        "my_list = [\"apple\", \"banana\", \"cherry\", \"date\", \"elderberry\"]\n",
        "print(my_list[2])"
      ],
      "metadata": {
        "colab": {
          "base_uri": "https://localhost:8080/"
        },
        "id": "qjXL04KMhT-V",
        "outputId": "38568518-398d-4225-93f9-c7b1d8365a33"
      },
      "execution_count": 35,
      "outputs": [
        {
          "output_type": "stream",
          "name": "stdout",
          "text": [
            "cherry\n"
          ]
        }
      ]
    },
    {
      "cell_type": "markdown",
      "source": [
        "# Q29. Write a code to combine two dictionaries into one and print the result."
      ],
      "metadata": {
        "id": "T8ciFrVfiXRx"
      }
    },
    {
      "cell_type": "code",
      "source": [
        "dict1 = {'a': 1, 'b': 2}\n",
        "dict2 = {'c': 3, 'd': 4}\n",
        "\n",
        "# Method 1: Using the | (union) operator (Python 3.9+)\n",
        "dict3 = dict1 | dict2\n",
        "print(dict3)"
      ],
      "metadata": {
        "colab": {
          "base_uri": "https://localhost:8080/"
        },
        "id": "u9V4qotWiW9f",
        "outputId": "07b022b3-2d01-4c9c-fac3-7b57b1925887"
      },
      "execution_count": 36,
      "outputs": [
        {
          "output_type": "stream",
          "name": "stdout",
          "text": [
            "{'a': 1, 'b': 2, 'c': 3, 'd': 4}\n"
          ]
        }
      ]
    },
    {
      "cell_type": "markdown",
      "source": [
        "# Q30. Write a code to convert a list of strings into a set."
      ],
      "metadata": {
        "id": "RfZP0QRxizLE"
      }
    },
    {
      "cell_type": "code",
      "source": [
        "s = \"Geeks\"\n",
        "\n",
        "print(type(s))\n",
        "print(s)\n",
        "\n",
        "# Convert String to Set\n",
        "set_s = set(s)\n",
        "\n",
        "print(type(set_s))\n",
        "print(set_s)\n"
      ],
      "metadata": {
        "colab": {
          "base_uri": "https://localhost:8080/"
        },
        "id": "_-M0MWiFox5h",
        "outputId": "88a68eec-8ef7-435a-dacf-119acf49f2e5"
      },
      "execution_count": 42,
      "outputs": [
        {
          "output_type": "stream",
          "name": "stdout",
          "text": [
            "<class 'str'>\n",
            "Geeks\n"
          ]
        }
      ]
    }
  ]
}